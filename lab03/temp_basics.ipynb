{
 "cells": [
  {
   "cell_type": "code",
   "execution_count": 1,
   "id": "ee731f42",
   "metadata": {},
   "outputs": [],
   "source": [
    "# AI agents"
   ]
  },
  {
   "cell_type": "code",
   "execution_count": 2,
   "id": "c254d582",
   "metadata": {},
   "outputs": [],
   "source": [
    "percept= [\"Anum\" , \"Taimur\" , \"Ali\" , \"Saad\"] \n",
    "\n",
    "state = [\"happy\", \"sad\", \"angry\", \"normal\"] \n",
    "\n",
    "rule= [\"smile\" , \"cry\" , \"frown\", \"watch football\"]"
   ]
  },
  {
   "cell_type": "code",
   "execution_count": 4,
   "id": "2a05444d",
   "metadata": {},
   "outputs": [],
   "source": [
    "def GetState(cPercept):\n",
    "    index=-1 \n",
    "    for p in percept: \n",
    "        index=index+1 \n",
    "        if p==cPercept:\n",
    "            return state[index]"
   ]
  },
  {
   "cell_type": "code",
   "execution_count": 5,
   "id": "80e39a45",
   "metadata": {},
   "outputs": [],
   "source": [
    "def GetRule(cState):\n",
    "    index=-1 \n",
    "    for s in state: \n",
    "        index=index+1 \n",
    "        if s==cState: \n",
    "            return rule[index]"
   ]
  },
  {
   "cell_type": "code",
   "execution_count": 6,
   "id": "089eec15",
   "metadata": {},
   "outputs": [],
   "source": [
    "def SimpleReflexAgent(cPercept): \n",
    "    return GetRule(GetState(cPercept))"
   ]
  },
  {
   "cell_type": "code",
   "execution_count": 7,
   "id": "9d0b9e2b",
   "metadata": {},
   "outputs": [
    {
     "name": "stdout",
     "output_type": "stream",
     "text": [
      "MENU: \n",
      " 0:Anum 1:Taimur 2:Ali 3:Saad\n",
      "Input Number :2\n",
      "frown\n"
     ]
    }
   ],
   "source": [
    "print (\"MENU: \") \n",
    "print (\" 0:Anum 1:Taimur 2:Ali 3:Saad\") \n",
    "print (SimpleReflexAgent(percept[int(input(\"Input Number :\"))])) "
   ]
  },
  {
   "cell_type": "code",
   "execution_count": null,
   "id": "882bccd2",
   "metadata": {},
   "outputs": [],
   "source": []
  }
 ],
 "metadata": {
  "kernelspec": {
   "display_name": "Python 3 (ipykernel)",
   "language": "python",
   "name": "python3"
  },
  "language_info": {
   "codemirror_mode": {
    "name": "ipython",
    "version": 3
   },
   "file_extension": ".py",
   "mimetype": "text/x-python",
   "name": "python",
   "nbconvert_exporter": "python",
   "pygments_lexer": "ipython3",
   "version": "3.9.13"
  }
 },
 "nbformat": 4,
 "nbformat_minor": 5
}
