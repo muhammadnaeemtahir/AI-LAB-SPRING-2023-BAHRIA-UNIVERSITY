{
 "cells": [
  {
   "cell_type": "markdown",
   "id": "ec16fb94",
   "metadata": {},
   "source": [
    "# AI Lab Journal 02"
   ]
  },
  {
   "cell_type": "markdown",
   "id": "ad3af171",
   "metadata": {},
   "source": [
    "**Muhammad Naeem Tahir**"
   ]
  },
  {
   "cell_type": "markdown",
   "id": "23446152",
   "metadata": {},
   "source": [
    "**01-134202-117**"
   ]
  },
  {
   "cell_type": "markdown",
   "id": "ebe99523",
   "metadata": {},
   "source": [
    "**BSCS (6A) - Spring 2023**"
   ]
  },
  {
   "cell_type": "code",
   "execution_count": null,
   "id": "415a332b",
   "metadata": {},
   "outputs": [],
   "source": []
  },
  {
   "cell_type": "markdown",
   "id": "f062c3d1",
   "metadata": {},
   "source": [
    "### Lab Journal 2-A"
   ]
  },
  {
   "cell_type": "markdown",
   "id": "929530f2",
   "metadata": {},
   "source": [
    "**Task 01**"
   ]
  },
  {
   "cell_type": "code",
   "execution_count": 25,
   "id": "5a20d226",
   "metadata": {},
   "outputs": [
    {
     "name": "stdout",
     "output_type": "stream",
     "text": [
      "Power calculated: 100\n",
      "Factorial: 6\n",
      "log: 1.0986122886681098\n",
      "sum: 12\n",
      "subtraction: 8\n",
      "multiplication: 20\n",
      "Classic division: 5.0\n"
     ]
    }
   ],
   "source": [
    "#import math library\n",
    "import math as m\n",
    "\n",
    "\n",
    "# base class => basic_calc\n",
    "class basic_calc:\n",
    "    def __init__(self, x=0, y=0):\n",
    "        self.x = x\n",
    "        self.y = y\n",
    "        \n",
    "    # addition function\n",
    "    def addition(self):\n",
    "        return self.x + self.y\n",
    "    \n",
    "    # subtraction function\n",
    "    def subtraction(self):\n",
    "        return self.x - self.y\n",
    "    \n",
    "    # multipliction function\n",
    "    def multiplication(self):\n",
    "        return self.x * self.y\n",
    "    \n",
    "    # division function\n",
    "    def classic_division(self):\n",
    "        return self.x / self.y\n",
    "    \n",
    "    \n",
    "# inherited class => s_cacl    \n",
    "class s_calc(basic_calc):\n",
    "    def __init__(self, x=0, y=0):\n",
    "        self.x = x\n",
    "        self.y = y\n",
    "        \n",
    "    # factorial function    \n",
    "    def Factorial(self, x):\n",
    "        factorial = 1\n",
    "        \n",
    "        if(x == 0 and x == 1):\n",
    "            return x\n",
    "        elif(x < 0):\n",
    "            print(\"Factorial of a negative number is not possible.\")\n",
    "            return\n",
    "        else:\n",
    "            for i in range(1, x+1):\n",
    "                factorial = factorial * i\n",
    "        \n",
    "        return factorial\n",
    "    \n",
    "    \n",
    "    # function to calculate power\n",
    "    def x_power_y(self):\n",
    "        return self.x ** self.y\n",
    "    \n",
    "    # function to calculate log\n",
    "    def log(self, x):\n",
    "        return m.log(x)\n",
    "    \n",
    "    \n",
    "obj_s_cal = s_calc(10, 2)\n",
    "\n",
    "# outputs\n",
    "print(f\"Power calculated: {obj_s_cal.x_power_y()}\")\n",
    "print(f\"Factorial: {obj_s_cal.Factorial(3)}\")\n",
    "print(f\"log: {obj_s_cal.log(3)}\")\n",
    "print(f\"sum: {obj_s_cal.addition()}\")\n",
    "print(f\"subtraction: {obj_s_cal.subtraction()}\")\n",
    "print(f\"multiplication: {obj_s_cal.multiplication()}\")\n",
    "print(f\"Classic division: {obj_s_cal.classic_division()}\")"
   ]
  },
  {
   "cell_type": "markdown",
   "id": "128f28b5",
   "metadata": {},
   "source": [
    "### Lab Journal 2-B"
   ]
  },
  {
   "cell_type": "markdown",
   "id": "db6f38c3",
   "metadata": {},
   "source": [
    "**Task 01**"
   ]
  },
  {
   "cell_type": "code",
   "execution_count": 26,
   "id": "1374ddcd",
   "metadata": {},
   "outputs": [
    {
     "name": "stdout",
     "output_type": "stream",
     "text": [
      "Enter a number: 9\n",
      "[1, 1, 2, 3, 5, 8, 13, 21, 34]\n"
     ]
    }
   ],
   "source": [
    "def Fibonacci(n):\n",
    "    \n",
    "    if(n == 0 or n == 1):\n",
    "        return 1\n",
    "    \n",
    "    fib = [1, 1]\n",
    "    a, b = 1, 1\n",
    "    for i in range(2, n):\n",
    "        a, b = b, a + b\n",
    "        fib.append(b)\n",
    "    return fib\n",
    "\n",
    "n = int(input(\"Enter a number: \"))\n",
    "fibonacci_numbers = Fibonacci(n)\n",
    "print(fibonacci_numbers)"
   ]
  },
  {
   "cell_type": "raw",
   "id": "aa624524",
   "metadata": {},
   "source": []
  },
  {
   "cell_type": "markdown",
   "id": "a4238034",
   "metadata": {},
   "source": [
    "**Task 02**"
   ]
  },
  {
   "cell_type": "code",
   "execution_count": 27,
   "id": "91578478",
   "metadata": {},
   "outputs": [
    {
     "name": "stdout",
     "output_type": "stream",
     "text": [
      "Enter some English text: My name is Muhammad Naeem Tahir\n",
      "ymay amenay ishay uhammadmay aeemnay ahirtay\n"
     ]
    }
   ],
   "source": [
    "VOWELS = ('a', 'e', 'i', 'o', 'u')\n",
    "\n",
    "def pig_latin(word):\n",
    "    first_letter = word[0]\n",
    "    if first_letter in VOWELS:\n",
    "        return word + 'hay'\n",
    "    else:\n",
    "        return word[1:] + first_letter + 'ay'\n",
    "\n",
    "text = input(\"Enter some English text: \")\n",
    "\n",
    "words = text.split()\n",
    "\n",
    "for i in range(len(words)):\n",
    "    words[i] = pig_latin(words[i].lower())\n",
    "\n",
    "pig_latin_text = ' '.join(words)\n",
    "print(pig_latin_text)"
   ]
  }
 ],
 "metadata": {
  "kernelspec": {
   "display_name": "Python 3 (ipykernel)",
   "language": "python",
   "name": "python3"
  },
  "language_info": {
   "codemirror_mode": {
    "name": "ipython",
    "version": 3
   },
   "file_extension": ".py",
   "mimetype": "text/x-python",
   "name": "python",
   "nbconvert_exporter": "python",
   "pygments_lexer": "ipython3",
   "version": "3.9.13"
  }
 },
 "nbformat": 4,
 "nbformat_minor": 5
}
